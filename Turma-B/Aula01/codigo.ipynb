{
 "cells": [
  {
   "cell_type": "code",
   "execution_count": 1,
   "id": "f370c0df",
   "metadata": {},
   "outputs": [
    {
     "name": "stdout",
     "output_type": "stream",
     "text": [
      "IABD\n"
     ]
    }
   ],
   "source": [
    "print(\"IABD\")"
   ]
  },
  {
   "cell_type": "code",
   "execution_count": null,
   "id": "f15596b4",
   "metadata": {},
   "outputs": [],
   "source": [
    "pip install pandas #instalaçao da biblioteca pandas"
   ]
  },
  {
   "cell_type": "code",
   "execution_count": 3,
   "id": "c5e88360",
   "metadata": {},
   "outputs": [],
   "source": [
    "import pandas as pd # importa a biblioteca pandas e chama ela como pd"
   ]
  },
  {
   "cell_type": "code",
   "execution_count": null,
   "id": "7135168e",
   "metadata": {},
   "outputs": [],
   "source": []
  }
 ],
 "metadata": {
  "kernelspec": {
   "display_name": "Python 3",
   "language": "python",
   "name": "python3"
  },
  "language_info": {
   "codemirror_mode": {
    "name": "ipython",
    "version": 3
   },
   "file_extension": ".py",
   "mimetype": "text/x-python",
   "name": "python",
   "nbconvert_exporter": "python",
   "pygments_lexer": "ipython3",
   "version": "3.11.8"
  }
 },
 "nbformat": 4,
 "nbformat_minor": 5
}
