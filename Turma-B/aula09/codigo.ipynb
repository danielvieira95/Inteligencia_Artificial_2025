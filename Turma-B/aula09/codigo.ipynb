{
 "cells": [
  {
   "cell_type": "code",
   "execution_count": 1,
   "id": "9a5bab9d",
   "metadata": {},
   "outputs": [],
   "source": [
    "# Problema classificar se uma pessoa comprar ou nao um produto com base na idade, renda e sexo\n",
    "# importa bibliotecas \n",
    "import pandas as pd"
   ]
  },
  {
   "cell_type": "code",
   "execution_count": 2,
   "id": "34b815c3",
   "metadata": {},
   "outputs": [],
   "source": [
    "df = pd.read_csv('https://raw.githubusercontent.com/danielvieira95/Inteligencia_Artificial_2025/refs/heads/main/bases_de_dados/Social_Network_Ads.csv')"
   ]
  },
  {
   "cell_type": "code",
   "execution_count": null,
   "id": "832cf979",
   "metadata": {},
   "outputs": [
    {
     "data": {
      "text/html": [
       "<div>\n",
       "<style scoped>\n",
       "    .dataframe tbody tr th:only-of-type {\n",
       "        vertical-align: middle;\n",
       "    }\n",
       "\n",
       "    .dataframe tbody tr th {\n",
       "        vertical-align: top;\n",
       "    }\n",
       "\n",
       "    .dataframe thead th {\n",
       "        text-align: right;\n",
       "    }\n",
       "</style>\n",
       "<table border=\"1\" class=\"dataframe\">\n",
       "  <thead>\n",
       "    <tr style=\"text-align: right;\">\n",
       "      <th></th>\n",
       "      <th>User ID</th>\n",
       "      <th>Gender</th>\n",
       "      <th>Age</th>\n",
       "      <th>EstimatedSalary</th>\n",
       "      <th>Purchased</th>\n",
       "    </tr>\n",
       "  </thead>\n",
       "  <tbody>\n",
       "    <tr>\n",
       "      <th>0</th>\n",
       "      <td>15624510</td>\n",
       "      <td>Male</td>\n",
       "      <td>19</td>\n",
       "      <td>19000</td>\n",
       "      <td>0</td>\n",
       "    </tr>\n",
       "    <tr>\n",
       "      <th>1</th>\n",
       "      <td>15810944</td>\n",
       "      <td>Male</td>\n",
       "      <td>35</td>\n",
       "      <td>20000</td>\n",
       "      <td>0</td>\n",
       "    </tr>\n",
       "    <tr>\n",
       "      <th>2</th>\n",
       "      <td>15668575</td>\n",
       "      <td>Female</td>\n",
       "      <td>26</td>\n",
       "      <td>43000</td>\n",
       "      <td>0</td>\n",
       "    </tr>\n",
       "    <tr>\n",
       "      <th>3</th>\n",
       "      <td>15603246</td>\n",
       "      <td>Female</td>\n",
       "      <td>27</td>\n",
       "      <td>57000</td>\n",
       "      <td>0</td>\n",
       "    </tr>\n",
       "    <tr>\n",
       "      <th>4</th>\n",
       "      <td>15804002</td>\n",
       "      <td>Male</td>\n",
       "      <td>19</td>\n",
       "      <td>76000</td>\n",
       "      <td>0</td>\n",
       "    </tr>\n",
       "  </tbody>\n",
       "</table>\n",
       "</div>"
      ],
      "text/plain": [
       "    User ID  Gender  Age  EstimatedSalary  Purchased\n",
       "0  15624510    Male   19            19000          0\n",
       "1  15810944    Male   35            20000          0\n",
       "2  15668575  Female   26            43000          0\n",
       "3  15603246  Female   27            57000          0\n",
       "4  15804002    Male   19            76000          0"
      ]
     },
     "execution_count": 3,
     "metadata": {},
     "output_type": "execute_result"
    }
   ],
   "source": [
    "df.head() # exibe as primeiras linhas do dataframe"
   ]
  },
  {
   "cell_type": "code",
   "execution_count": 4,
   "id": "99b4674f",
   "metadata": {},
   "outputs": [],
   "source": [
    "# Criando um dicionário para substituir o nome de cada coluna\n",
    "dicionario = {\n",
    "    'User ID': 'Usuario','Gender':'Genero','Age': 'Idade','EstimatedSalary':'Salario Estimado',\n",
    "    'Purchased':'Comprou'\n",
    "}"
   ]
  },
  {
   "cell_type": "code",
   "execution_count": 5,
   "id": "9badfbc2",
   "metadata": {},
   "outputs": [],
   "source": [
    "df.rename(columns=dicionario,inplace=True) # renomeia a coluna"
   ]
  },
  {
   "cell_type": "code",
   "execution_count": 6,
   "id": "a2c9ad21",
   "metadata": {},
   "outputs": [
    {
     "data": {
      "text/html": [
       "<div>\n",
       "<style scoped>\n",
       "    .dataframe tbody tr th:only-of-type {\n",
       "        vertical-align: middle;\n",
       "    }\n",
       "\n",
       "    .dataframe tbody tr th {\n",
       "        vertical-align: top;\n",
       "    }\n",
       "\n",
       "    .dataframe thead th {\n",
       "        text-align: right;\n",
       "    }\n",
       "</style>\n",
       "<table border=\"1\" class=\"dataframe\">\n",
       "  <thead>\n",
       "    <tr style=\"text-align: right;\">\n",
       "      <th></th>\n",
       "      <th>Usuario</th>\n",
       "      <th>Genero</th>\n",
       "      <th>Idade</th>\n",
       "      <th>Salario Estimado</th>\n",
       "      <th>Comprou</th>\n",
       "    </tr>\n",
       "  </thead>\n",
       "  <tbody>\n",
       "    <tr>\n",
       "      <th>0</th>\n",
       "      <td>15624510</td>\n",
       "      <td>Male</td>\n",
       "      <td>19</td>\n",
       "      <td>19000</td>\n",
       "      <td>0</td>\n",
       "    </tr>\n",
       "    <tr>\n",
       "      <th>1</th>\n",
       "      <td>15810944</td>\n",
       "      <td>Male</td>\n",
       "      <td>35</td>\n",
       "      <td>20000</td>\n",
       "      <td>0</td>\n",
       "    </tr>\n",
       "    <tr>\n",
       "      <th>2</th>\n",
       "      <td>15668575</td>\n",
       "      <td>Female</td>\n",
       "      <td>26</td>\n",
       "      <td>43000</td>\n",
       "      <td>0</td>\n",
       "    </tr>\n",
       "    <tr>\n",
       "      <th>3</th>\n",
       "      <td>15603246</td>\n",
       "      <td>Female</td>\n",
       "      <td>27</td>\n",
       "      <td>57000</td>\n",
       "      <td>0</td>\n",
       "    </tr>\n",
       "    <tr>\n",
       "      <th>4</th>\n",
       "      <td>15804002</td>\n",
       "      <td>Male</td>\n",
       "      <td>19</td>\n",
       "      <td>76000</td>\n",
       "      <td>0</td>\n",
       "    </tr>\n",
       "  </tbody>\n",
       "</table>\n",
       "</div>"
      ],
      "text/plain": [
       "    Usuario  Genero  Idade  Salario Estimado  Comprou\n",
       "0  15624510    Male     19             19000        0\n",
       "1  15810944    Male     35             20000        0\n",
       "2  15668575  Female     26             43000        0\n",
       "3  15603246  Female     27             57000        0\n",
       "4  15804002    Male     19             76000        0"
      ]
     },
     "execution_count": 6,
     "metadata": {},
     "output_type": "execute_result"
    }
   ],
   "source": [
    "df.head()"
   ]
  },
  {
   "cell_type": "code",
   "execution_count": 7,
   "id": "6bcdf0b1",
   "metadata": {},
   "outputs": [],
   "source": [
    "# importa as bibliotecas necessárias para a análise de dados\n",
    "import matplotlib.pyplot as plt # importa a matplotlib\n",
    "from sklearn.svm import SVC # importa da biblioteca SVM o modelo SVC\n",
    "from sklearn.preprocessing import StandardScaler # faz a normalização dos dados\n",
    "from sklearn.metrics import confusion_matrix,accuracy_score, precision_score, recall_score,f1_score\n",
    "from matplotlib.colors import ListedColormap # importa a biblioteca matplotlib"
   ]
  },
  {
   "cell_type": "code",
   "execution_count": 8,
   "id": "ce6dacbd",
   "metadata": {},
   "outputs": [],
   "source": [
    "# Seleciona as colunas do dataframe\n",
    "X = df.iloc[:,[2,3]].values # pega os valores da primeira coluna ate a coluna 3\n",
    "Y = df.iloc[:,[-1]].values # pega a ultima coluna do dataframe"
   ]
  },
  {
   "cell_type": "code",
   "execution_count": null,
   "id": "651238e0",
   "metadata": {},
   "outputs": [],
   "source": [
    "X"
   ]
  },
  {
   "cell_type": "code",
   "execution_count": null,
   "id": "9a0fa3c6",
   "metadata": {},
   "outputs": [],
   "source": [
    "Y"
   ]
  },
  {
   "cell_type": "code",
   "execution_count": 11,
   "id": "fcc87547",
   "metadata": {},
   "outputs": [],
   "source": [
    "# importa as bibliotecas para dividir os dados em treino e teste\n",
    "from sklearn.model_selection import train_test_split # importa o metodo train teste split \n"
   ]
  },
  {
   "cell_type": "code",
   "execution_count": 12,
   "id": "85752ac5",
   "metadata": {},
   "outputs": [],
   "source": [
    "# dividindo os dados em treino e teste\n",
    "X_treino, X_teste, Y_treino,Y_teste= train_test_split(X,Y,test_size=0.3,random_state=3)"
   ]
  },
  {
   "cell_type": "code",
   "execution_count": 13,
   "id": "610b708e",
   "metadata": {},
   "outputs": [],
   "source": [
    "# Normalizando os dados com Standscaler\n",
    "sc = StandardScaler() # armazena o Stand Scaller na variavel sc "
   ]
  }
 ],
 "metadata": {
  "kernelspec": {
   "display_name": "Python 3",
   "language": "python",
   "name": "python3"
  },
  "language_info": {
   "codemirror_mode": {
    "name": "ipython",
    "version": 3
   },
   "file_extension": ".py",
   "mimetype": "text/x-python",
   "name": "python",
   "nbconvert_exporter": "python",
   "pygments_lexer": "ipython3",
   "version": "3.13.1"
  }
 },
 "nbformat": 4,
 "nbformat_minor": 5
}
