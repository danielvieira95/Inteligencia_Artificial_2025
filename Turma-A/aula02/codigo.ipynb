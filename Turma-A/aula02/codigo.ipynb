{
 "cells": [
  {
   "cell_type": "code",
   "execution_count": 1,
   "id": "9536f2a7",
   "metadata": {},
   "outputs": [],
   "source": [
    "# Aula 02 - Configuração de ambiente Python"
   ]
  },
  {
   "cell_type": "code",
   "execution_count": 2,
   "id": "ebb7452e",
   "metadata": {},
   "outputs": [
    {
     "name": "stdout",
     "output_type": "stream",
     "text": [
      "Inteligencia Artificial e Big Data - aula 02\n"
     ]
    }
   ],
   "source": [
    "print('Inteligencia Artificial e Big Data - aula 02')"
   ]
  },
  {
   "cell_type": "code",
   "execution_count": null,
   "id": "e736d346",
   "metadata": {},
   "outputs": [],
   "source": [
    "# instalação biblioteca pandas\n",
    "!pip install pandas"
   ]
  },
  {
   "cell_type": "code",
   "execution_count": 4,
   "id": "dc92ec66",
   "metadata": {},
   "outputs": [],
   "source": [
    "# importar a biblioteca pandas\n",
    "import pandas as pd "
   ]
  },
  {
   "cell_type": "code",
   "execution_count": 5,
   "id": "8888f067",
   "metadata": {},
   "outputs": [
    {
     "name": "stdout",
     "output_type": "stream",
     "text": [
      "          A  B   C\n",
      "1ª Linha  1 -3   0\n",
      "2ª Linha  2 -2  10\n",
      "3ª Linha  3 -1  20\n"
     ]
    }
   ],
   "source": [
    "# Criando um dicionario no Python\n",
    "\n",
    "Dicionario = {\n",
    "    'A': [1,2,3],\n",
    "    'B':[-3,-2,-1],\n",
    "    'C':[0,10,20]\n",
    "}\n",
    "\n",
    "# Criando um index para linhas do dicionario\n",
    "Label = ['1ª Linha','2ª Linha','3ª Linha']\n",
    "\n",
    "# Criar o Dataframe\n",
    "Dataframe_01 = pd.DataFrame(Dicionario,index=Label)\n",
    "print(Dataframe_01)"
   ]
  }
 ],
 "metadata": {
  "kernelspec": {
   "display_name": "Python 3",
   "language": "python",
   "name": "python3"
  },
  "language_info": {
   "codemirror_mode": {
    "name": "ipython",
    "version": 3
   },
   "file_extension": ".py",
   "mimetype": "text/x-python",
   "name": "python",
   "nbconvert_exporter": "python",
   "pygments_lexer": "ipython3",
   "version": "3.13.1"
  }
 },
 "nbformat": 4,
 "nbformat_minor": 5
}
