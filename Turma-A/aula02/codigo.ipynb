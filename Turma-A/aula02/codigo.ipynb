{
 "cells": [
  {
   "cell_type": "code",
   "execution_count": 1,
   "id": "9536f2a7",
   "metadata": {},
   "outputs": [],
   "source": [
    "# Aula 02 - Configuração de ambiente Python"
   ]
  },
  {
   "cell_type": "code",
   "execution_count": 2,
   "id": "ebb7452e",
   "metadata": {},
   "outputs": [
    {
     "name": "stdout",
     "output_type": "stream",
     "text": [
      "Inteligencia Artificial e Big Data - aula 02\n"
     ]
    }
   ],
   "source": [
    "print('Inteligencia Artificial e Big Data - aula 02')"
   ]
  },
  {
   "cell_type": "code",
   "execution_count": null,
   "id": "e736d346",
   "metadata": {},
   "outputs": [],
   "source": [
    "# instalação biblioteca pandas\n",
    "!pip install pandas"
   ]
  },
  {
   "cell_type": "code",
   "execution_count": 4,
   "id": "dc92ec66",
   "metadata": {},
   "outputs": [],
   "source": [
    "# importar a biblioteca pandas\n",
    "import pandas as pd "
   ]
  },
  {
   "cell_type": "code",
   "execution_count": 5,
   "id": "8888f067",
   "metadata": {},
   "outputs": [
    {
     "name": "stdout",
     "output_type": "stream",
     "text": [
      "          A  B   C\n",
      "1ª Linha  1 -3   0\n",
      "2ª Linha  2 -2  10\n",
      "3ª Linha  3 -1  20\n"
     ]
    }
   ],
   "source": [
    "# Criando um dicionario no Python\n",
    "\n",
    "Dicionario = {\n",
    "    'A': [1,2,3],\n",
    "    'B':[-3,-2,-1],\n",
    "    'C':[0,10,20]\n",
    "}\n",
    "\n",
    "# Criando um index para linhas do dicionario\n",
    "Label = ['1ª Linha','2ª Linha','3ª Linha']\n",
    "\n",
    "# Criar o Dataframe\n",
    "Dataframe_01 = pd.DataFrame(Dicionario,index=Label)\n",
    "print(Dataframe_01)"
   ]
  },
  {
   "cell_type": "code",
   "execution_count": 6,
   "id": "7a13ec21",
   "metadata": {},
   "outputs": [
    {
     "data": {
      "text/html": [
       "<div>\n",
       "<style scoped>\n",
       "    .dataframe tbody tr th:only-of-type {\n",
       "        vertical-align: middle;\n",
       "    }\n",
       "\n",
       "    .dataframe tbody tr th {\n",
       "        vertical-align: top;\n",
       "    }\n",
       "\n",
       "    .dataframe thead th {\n",
       "        text-align: right;\n",
       "    }\n",
       "</style>\n",
       "<table border=\"1\" class=\"dataframe\">\n",
       "  <thead>\n",
       "    <tr style=\"text-align: right;\">\n",
       "      <th></th>\n",
       "      <th>A</th>\n",
       "      <th>B</th>\n",
       "    </tr>\n",
       "  </thead>\n",
       "  <tbody>\n",
       "    <tr>\n",
       "      <th>1ª Linha</th>\n",
       "      <td>1</td>\n",
       "      <td>-3</td>\n",
       "    </tr>\n",
       "    <tr>\n",
       "      <th>2ª Linha</th>\n",
       "      <td>2</td>\n",
       "      <td>-2</td>\n",
       "    </tr>\n",
       "    <tr>\n",
       "      <th>3ª Linha</th>\n",
       "      <td>3</td>\n",
       "      <td>-1</td>\n",
       "    </tr>\n",
       "  </tbody>\n",
       "</table>\n",
       "</div>"
      ],
      "text/plain": [
       "          A  B\n",
       "1ª Linha  1 -3\n",
       "2ª Linha  2 -2\n",
       "3ª Linha  3 -1"
      ]
     },
     "execution_count": 6,
     "metadata": {},
     "output_type": "execute_result"
    }
   ],
   "source": [
    "# Selecionando colunas A e B\n",
    "Dataframe_01[['A','B']]"
   ]
  },
  {
   "cell_type": "code",
   "execution_count": 7,
   "id": "d36c3694",
   "metadata": {},
   "outputs": [
    {
     "data": {
      "text/html": [
       "<div>\n",
       "<style scoped>\n",
       "    .dataframe tbody tr th:only-of-type {\n",
       "        vertical-align: middle;\n",
       "    }\n",
       "\n",
       "    .dataframe tbody tr th {\n",
       "        vertical-align: top;\n",
       "    }\n",
       "\n",
       "    .dataframe thead th {\n",
       "        text-align: right;\n",
       "    }\n",
       "</style>\n",
       "<table border=\"1\" class=\"dataframe\">\n",
       "  <thead>\n",
       "    <tr style=\"text-align: right;\">\n",
       "      <th></th>\n",
       "      <th>A</th>\n",
       "      <th>C</th>\n",
       "    </tr>\n",
       "  </thead>\n",
       "  <tbody>\n",
       "    <tr>\n",
       "      <th>1ª Linha</th>\n",
       "      <td>1</td>\n",
       "      <td>0</td>\n",
       "    </tr>\n",
       "    <tr>\n",
       "      <th>2ª Linha</th>\n",
       "      <td>2</td>\n",
       "      <td>10</td>\n",
       "    </tr>\n",
       "    <tr>\n",
       "      <th>3ª Linha</th>\n",
       "      <td>3</td>\n",
       "      <td>20</td>\n",
       "    </tr>\n",
       "  </tbody>\n",
       "</table>\n",
       "</div>"
      ],
      "text/plain": [
       "          A   C\n",
       "1ª Linha  1   0\n",
       "2ª Linha  2  10\n",
       "3ª Linha  3  20"
      ]
     },
     "execution_count": 7,
     "metadata": {},
     "output_type": "execute_result"
    }
   ],
   "source": [
    "# Selecionando as colunas A e C\n",
    "Dataframe_01[['A','C']]"
   ]
  },
  {
   "cell_type": "code",
   "execution_count": 8,
   "id": "f834dd7c",
   "metadata": {},
   "outputs": [],
   "source": [
    "# Criando uma nova coluna no Dataframe\n",
    "Dataframe_01['Nova coluna'] = Dataframe_01['A']*Dataframe_01['B']"
   ]
  },
  {
   "cell_type": "code",
   "execution_count": 9,
   "id": "4b84bc5e",
   "metadata": {},
   "outputs": [
    {
     "data": {
      "text/html": [
       "<div>\n",
       "<style scoped>\n",
       "    .dataframe tbody tr th:only-of-type {\n",
       "        vertical-align: middle;\n",
       "    }\n",
       "\n",
       "    .dataframe tbody tr th {\n",
       "        vertical-align: top;\n",
       "    }\n",
       "\n",
       "    .dataframe thead th {\n",
       "        text-align: right;\n",
       "    }\n",
       "</style>\n",
       "<table border=\"1\" class=\"dataframe\">\n",
       "  <thead>\n",
       "    <tr style=\"text-align: right;\">\n",
       "      <th></th>\n",
       "      <th>A</th>\n",
       "      <th>B</th>\n",
       "      <th>C</th>\n",
       "      <th>Nova coluna</th>\n",
       "    </tr>\n",
       "  </thead>\n",
       "  <tbody>\n",
       "    <tr>\n",
       "      <th>1ª Linha</th>\n",
       "      <td>1</td>\n",
       "      <td>-3</td>\n",
       "      <td>0</td>\n",
       "      <td>-3</td>\n",
       "    </tr>\n",
       "    <tr>\n",
       "      <th>2ª Linha</th>\n",
       "      <td>2</td>\n",
       "      <td>-2</td>\n",
       "      <td>10</td>\n",
       "      <td>-4</td>\n",
       "    </tr>\n",
       "    <tr>\n",
       "      <th>3ª Linha</th>\n",
       "      <td>3</td>\n",
       "      <td>-1</td>\n",
       "      <td>20</td>\n",
       "      <td>-3</td>\n",
       "    </tr>\n",
       "  </tbody>\n",
       "</table>\n",
       "</div>"
      ],
      "text/plain": [
       "          A  B   C  Nova coluna\n",
       "1ª Linha  1 -3   0           -3\n",
       "2ª Linha  2 -2  10           -4\n",
       "3ª Linha  3 -1  20           -3"
      ]
     },
     "execution_count": 9,
     "metadata": {},
     "output_type": "execute_result"
    }
   ],
   "source": [
    "# Exibindo o Dataframe\n",
    "Dataframe_01"
   ]
  },
  {
   "cell_type": "code",
   "execution_count": 12,
   "id": "761f130f",
   "metadata": {},
   "outputs": [
    {
     "name": "stdout",
     "output_type": "stream",
     "text": [
      "5\n"
     ]
    },
    {
     "data": {
      "text/html": [
       "<div>\n",
       "<style scoped>\n",
       "    .dataframe tbody tr th:only-of-type {\n",
       "        vertical-align: middle;\n",
       "    }\n",
       "\n",
       "    .dataframe tbody tr th {\n",
       "        vertical-align: top;\n",
       "    }\n",
       "\n",
       "    .dataframe thead th {\n",
       "        text-align: right;\n",
       "    }\n",
       "</style>\n",
       "<table border=\"1\" class=\"dataframe\">\n",
       "  <thead>\n",
       "    <tr style=\"text-align: right;\">\n",
       "      <th></th>\n",
       "      <th>A</th>\n",
       "      <th>B</th>\n",
       "      <th>C</th>\n",
       "      <th>Nova coluna</th>\n",
       "    </tr>\n",
       "  </thead>\n",
       "  <tbody>\n",
       "    <tr>\n",
       "      <th>1ª Linha</th>\n",
       "      <td>1</td>\n",
       "      <td>-3</td>\n",
       "      <td>0</td>\n",
       "      <td>-3</td>\n",
       "    </tr>\n",
       "    <tr>\n",
       "      <th>2ª Linha</th>\n",
       "      <td>2</td>\n",
       "      <td>-2</td>\n",
       "      <td>10</td>\n",
       "      <td>-4</td>\n",
       "    </tr>\n",
       "    <tr>\n",
       "      <th>3ª Linha</th>\n",
       "      <td>3</td>\n",
       "      <td>-1</td>\n",
       "      <td>20</td>\n",
       "      <td>-3</td>\n",
       "    </tr>\n",
       "  </tbody>\n",
       "</table>\n",
       "</div>"
      ],
      "text/plain": [
       "          A  B   C  Nova coluna\n",
       "1ª Linha  1 -3   0           -3\n",
       "2ª Linha  2 -2  10           -4\n",
       "3ª Linha  3 -1  20           -3"
      ]
     },
     "execution_count": 12,
     "metadata": {},
     "output_type": "execute_result"
    }
   ],
   "source": [
    "# Exibindo mais de um valor na celula do Jupyter notebook\n",
    "a =5\n",
    "print(a)\n",
    "Dataframe_01"
   ]
  },
  {
   "cell_type": "code",
   "execution_count": 13,
   "id": "10078fde",
   "metadata": {},
   "outputs": [
    {
     "data": {
      "text/html": [
       "<div>\n",
       "<style scoped>\n",
       "    .dataframe tbody tr th:only-of-type {\n",
       "        vertical-align: middle;\n",
       "    }\n",
       "\n",
       "    .dataframe tbody tr th {\n",
       "        vertical-align: top;\n",
       "    }\n",
       "\n",
       "    .dataframe thead th {\n",
       "        text-align: right;\n",
       "    }\n",
       "</style>\n",
       "<table border=\"1\" class=\"dataframe\">\n",
       "  <thead>\n",
       "    <tr style=\"text-align: right;\">\n",
       "      <th></th>\n",
       "      <th>A</th>\n",
       "      <th>B</th>\n",
       "      <th>C</th>\n",
       "    </tr>\n",
       "  </thead>\n",
       "  <tbody>\n",
       "    <tr>\n",
       "      <th>1ª Linha</th>\n",
       "      <td>1</td>\n",
       "      <td>-3</td>\n",
       "      <td>0</td>\n",
       "    </tr>\n",
       "    <tr>\n",
       "      <th>2ª Linha</th>\n",
       "      <td>2</td>\n",
       "      <td>-2</td>\n",
       "      <td>10</td>\n",
       "    </tr>\n",
       "    <tr>\n",
       "      <th>3ª Linha</th>\n",
       "      <td>3</td>\n",
       "      <td>-1</td>\n",
       "      <td>20</td>\n",
       "    </tr>\n",
       "  </tbody>\n",
       "</table>\n",
       "</div>"
      ],
      "text/plain": [
       "          A  B   C\n",
       "1ª Linha  1 -3   0\n",
       "2ª Linha  2 -2  10\n",
       "3ª Linha  3 -1  20"
      ]
     },
     "execution_count": 13,
     "metadata": {},
     "output_type": "execute_result"
    }
   ],
   "source": [
    "# Excluindo uma coluna do Dataframe\n",
    "Dataframe_01.drop('Nova coluna',axis=1) # drop exclui a coluna do\n",
    "# Dataframe"
   ]
  },
  {
   "cell_type": "code",
   "execution_count": null,
   "id": "87f52f8c",
   "metadata": {},
   "outputs": [
    {
     "data": {
      "text/html": [
       "<div>\n",
       "<style scoped>\n",
       "    .dataframe tbody tr th:only-of-type {\n",
       "        vertical-align: middle;\n",
       "    }\n",
       "\n",
       "    .dataframe tbody tr th {\n",
       "        vertical-align: top;\n",
       "    }\n",
       "\n",
       "    .dataframe thead th {\n",
       "        text-align: right;\n",
       "    }\n",
       "</style>\n",
       "<table border=\"1\" class=\"dataframe\">\n",
       "  <thead>\n",
       "    <tr style=\"text-align: right;\">\n",
       "      <th></th>\n",
       "      <th>A</th>\n",
       "      <th>B</th>\n",
       "      <th>C</th>\n",
       "      <th>Nova coluna</th>\n",
       "    </tr>\n",
       "  </thead>\n",
       "  <tbody>\n",
       "    <tr>\n",
       "      <th>2ª Linha</th>\n",
       "      <td>2</td>\n",
       "      <td>-2</td>\n",
       "      <td>10</td>\n",
       "      <td>-4</td>\n",
       "    </tr>\n",
       "    <tr>\n",
       "      <th>3ª Linha</th>\n",
       "      <td>3</td>\n",
       "      <td>-1</td>\n",
       "      <td>20</td>\n",
       "      <td>-3</td>\n",
       "    </tr>\n",
       "  </tbody>\n",
       "</table>\n",
       "</div>"
      ],
      "text/plain": [
       "          A  B   C  Nova coluna\n",
       "2ª Linha  2 -2  10           -4\n",
       "3ª Linha  3 -1  20           -3"
      ]
     },
     "execution_count": 16,
     "metadata": {},
     "output_type": "execute_result"
    }
   ],
   "source": [
    "Dataframe_01.drop('1ª Linha',axis=0) # drop exclui a linha  do\n",
    "# Dataframe"
   ]
  },
  {
   "cell_type": "code",
   "execution_count": 17,
   "id": "e1b1c6e1",
   "metadata": {},
   "outputs": [
    {
     "data": {
      "text/html": [
       "<div>\n",
       "<style scoped>\n",
       "    .dataframe tbody tr th:only-of-type {\n",
       "        vertical-align: middle;\n",
       "    }\n",
       "\n",
       "    .dataframe tbody tr th {\n",
       "        vertical-align: top;\n",
       "    }\n",
       "\n",
       "    .dataframe thead th {\n",
       "        text-align: right;\n",
       "    }\n",
       "</style>\n",
       "<table border=\"1\" class=\"dataframe\">\n",
       "  <thead>\n",
       "    <tr style=\"text-align: right;\">\n",
       "      <th></th>\n",
       "      <th>A</th>\n",
       "      <th>B</th>\n",
       "      <th>C</th>\n",
       "      <th>Nova coluna</th>\n",
       "    </tr>\n",
       "  </thead>\n",
       "  <tbody>\n",
       "    <tr>\n",
       "      <th>1ª Linha</th>\n",
       "      <td>1</td>\n",
       "      <td>-3</td>\n",
       "      <td>0</td>\n",
       "      <td>-3</td>\n",
       "    </tr>\n",
       "    <tr>\n",
       "      <th>2ª Linha</th>\n",
       "      <td>2</td>\n",
       "      <td>-2</td>\n",
       "      <td>10</td>\n",
       "      <td>-4</td>\n",
       "    </tr>\n",
       "    <tr>\n",
       "      <th>3ª Linha</th>\n",
       "      <td>3</td>\n",
       "      <td>-1</td>\n",
       "      <td>20</td>\n",
       "      <td>-3</td>\n",
       "    </tr>\n",
       "  </tbody>\n",
       "</table>\n",
       "</div>"
      ],
      "text/plain": [
       "          A  B   C  Nova coluna\n",
       "1ª Linha  1 -3   0           -3\n",
       "2ª Linha  2 -2  10           -4\n",
       "3ª Linha  3 -1  20           -3"
      ]
     },
     "execution_count": 17,
     "metadata": {},
     "output_type": "execute_result"
    }
   ],
   "source": [
    "Dataframe_01"
   ]
  },
  {
   "cell_type": "code",
   "execution_count": 18,
   "id": "f6e4ae3d",
   "metadata": {},
   "outputs": [],
   "source": [
    "# Excluindo uma coluna do Dataframe de forma permanente\n",
    "Dataframe_01.drop('Nova coluna',axis=1,inplace=True) # drop exclui a coluna do\n",
    "# Dataframe"
   ]
  },
  {
   "cell_type": "code",
   "execution_count": 19,
   "id": "08ccf555",
   "metadata": {},
   "outputs": [
    {
     "data": {
      "text/html": [
       "<div>\n",
       "<style scoped>\n",
       "    .dataframe tbody tr th:only-of-type {\n",
       "        vertical-align: middle;\n",
       "    }\n",
       "\n",
       "    .dataframe tbody tr th {\n",
       "        vertical-align: top;\n",
       "    }\n",
       "\n",
       "    .dataframe thead th {\n",
       "        text-align: right;\n",
       "    }\n",
       "</style>\n",
       "<table border=\"1\" class=\"dataframe\">\n",
       "  <thead>\n",
       "    <tr style=\"text-align: right;\">\n",
       "      <th></th>\n",
       "      <th>A</th>\n",
       "      <th>B</th>\n",
       "      <th>C</th>\n",
       "    </tr>\n",
       "  </thead>\n",
       "  <tbody>\n",
       "    <tr>\n",
       "      <th>1ª Linha</th>\n",
       "      <td>1</td>\n",
       "      <td>-3</td>\n",
       "      <td>0</td>\n",
       "    </tr>\n",
       "    <tr>\n",
       "      <th>2ª Linha</th>\n",
       "      <td>2</td>\n",
       "      <td>-2</td>\n",
       "      <td>10</td>\n",
       "    </tr>\n",
       "    <tr>\n",
       "      <th>3ª Linha</th>\n",
       "      <td>3</td>\n",
       "      <td>-1</td>\n",
       "      <td>20</td>\n",
       "    </tr>\n",
       "  </tbody>\n",
       "</table>\n",
       "</div>"
      ],
      "text/plain": [
       "          A  B   C\n",
       "1ª Linha  1 -3   0\n",
       "2ª Linha  2 -2  10\n",
       "3ª Linha  3 -1  20"
      ]
     },
     "execution_count": 19,
     "metadata": {},
     "output_type": "execute_result"
    }
   ],
   "source": [
    "Dataframe_01"
   ]
  },
  {
   "cell_type": "code",
   "execution_count": null,
   "id": "f00f852e",
   "metadata": {},
   "outputs": [],
   "source": []
  }
 ],
 "metadata": {
  "kernelspec": {
   "display_name": "Python 3",
   "language": "python",
   "name": "python3"
  },
  "language_info": {
   "codemirror_mode": {
    "name": "ipython",
    "version": 3
   },
   "file_extension": ".py",
   "mimetype": "text/x-python",
   "name": "python",
   "nbconvert_exporter": "python",
   "pygments_lexer": "ipython3",
   "version": "3.13.1"
  }
 },
 "nbformat": 4,
 "nbformat_minor": 5
}
